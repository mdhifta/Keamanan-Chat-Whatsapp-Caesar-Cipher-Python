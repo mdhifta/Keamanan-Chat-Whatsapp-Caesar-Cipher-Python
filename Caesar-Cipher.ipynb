{
 "cells": [
  {
   "cell_type": "code",
   "execution_count": 9,
   "id": "acoustic-pipeline",
   "metadata": {},
   "outputs": [],
   "source": [
    "import string"
   ]
  },
  {
   "cell_type": "code",
   "execution_count": 10,
   "id": "economic-forth",
   "metadata": {},
   "outputs": [],
   "source": [
    "#membuat fungsi enkripsi Caesar Cipher seperti catatan Ravi Dharmawan\n",
    "\n",
    "def enkripsi(data, key):\n",
    "    res = ''\n",
    "    for x in range(len(data)):\n",
    "        if data[x].isupper():\n",
    "            pos = string.ascii_uppercase.index(data[x]) + key\n",
    "            pos = pos % 26\n",
    "            res += string.ascii_uppercase[pos]\n",
    "        elif data[x].islower():\n",
    "            pos = string.ascii_lowercase.index(data[x]) + key\n",
    "            pos = pos % 26\n",
    "            res += string.ascii_lowercase[pos]\n",
    "        else:\n",
    "            res += data[x]\n",
    "    return res"
   ]
  },
  {
   "cell_type": "code",
   "execution_count": 11,
   "id": "excess-adapter",
   "metadata": {},
   "outputs": [],
   "source": [
    "#membuat fungsi untuk melakukan dekripsi Caesar Cipher\n",
    "def dekripsi(data, key):\n",
    "    res = \"\"\n",
    "    for x in range(len(data)):\n",
    "        if data[x].isupper():\n",
    "            pos = string.ascii_uppercase.index(data[x]) - key\n",
    "            pos = pos % 26\n",
    "            res += string.ascii_uppercase[pos]\n",
    "        elif data[x].islower():\n",
    "            pos = string.ascii_lowercase.index(data[x]) - key\n",
    "            pos = pos % 26\n",
    "            res += string.ascii_lowercase[pos]\n",
    "        else:\n",
    "            res += data[x]\n",
    "    return res"
   ]
  },
  {
   "cell_type": "code",
   "execution_count": 12,
   "id": "automotive-radiation",
   "metadata": {},
   "outputs": [],
   "source": [
    "#melakukan enkripsi pada data chat whatsapp"
   ]
  },
  {
   "cell_type": "code",
   "execution_count": 13,
   "id": "every-melissa",
   "metadata": {},
   "outputs": [],
   "source": [
    "#mengambil/mengimport data chat\n",
    "chat = open('/home/shoera/virtualenv/chat.txt', 'r')"
   ]
  },
  {
   "cell_type": "code",
   "execution_count": 14,
   "id": "sufficient-designation",
   "metadata": {},
   "outputs": [],
   "source": [
    "content = chat.read()"
   ]
  },
  {
   "cell_type": "code",
   "execution_count": 15,
   "id": "faced-press",
   "metadata": {},
   "outputs": [
    {
     "name": "stdout",
     "output_type": "stream",
     "text": [
      "5/18/21, 08:22 - Rjxxfljx fsi hfqqx fwj jsi-yt-jsi jshwduyji. St tsj tzyxnij tk ymnx hmfy, sty jajs BmfyxFuu, hfs wjfi tw qnxyjs yt ymjr. Yfu yt qjfws rtwj.\n",
      "6/6/21, 19:24 - Ufsiz Hfmdt: luu hzd itslfp j bfj pjqfw pu npn\n",
      "6/6/21, 19:27 - R Imnkyf: Ptj jrfsl wjanxn fuf?\n",
      "6/6/21, 19:27 - Ufsiz Hfmdt: rfxnm fhfp\"fs qfutwfs pz\n",
      "6/6/21, 19:29 - R Imnkyf: Yfun mnizu sllfp pfs?\n",
      "6/6/21, 19:45 - Ufsiz Hfmdt: xfrf fof htp bpbp\n",
      "6/6/21, 19:48 - R Imnkyf: Nxn itrujy?\n",
      "6/6/21, 21:17 - Ufsiz Hfmdt: ptxtsl bpbp\n",
      "6/6/21, 21:20 - R Imnkyf: Xfrf fxz bpbp\n",
      "\n"
     ]
    }
   ],
   "source": [
    "#melakukan enkripsi pada data chat\n",
    "myenkripsi = enkripsi(content, 5)\n",
    "\n",
    "print(myenkripsi)"
   ]
  },
  {
   "cell_type": "code",
   "execution_count": 16,
   "id": "english-status",
   "metadata": {},
   "outputs": [
    {
     "name": "stdout",
     "output_type": "stream",
     "text": [
      "5/18/21, 08:22 - Messages and calls are end-to-end encrypted. No one outside of this chat, not even WhatsApp, can read or listen to them. Tap to learn more.\n",
      "6/6/21, 19:24 - Pandu Cahyo: gpp cuy dongak e wae kelar kp iki\n",
      "6/6/21, 19:27 - M Dhifta: Koe emang revisi apa?\n",
      "6/6/21, 19:27 - Pandu Cahyo: masih acak\"an laporan ku\n",
      "6/6/21, 19:29 - M Dhifta: Tapi hidup nggak kan?\n",
      "6/6/21, 19:45 - Pandu Cahyo: sama aja cok wkwk\n",
      "6/6/21, 19:48 - M Dhifta: Isi dompet?\n",
      "6/6/21, 21:17 - Pandu Cahyo: kosong wkwk\n",
      "6/6/21, 21:20 - M Dhifta: Sama asu wkwk\n",
      "\n"
     ]
    }
   ],
   "source": [
    "#melakukan dekripsi pada chat \n",
    "print(dekripsi(myenkripsi, 5))"
   ]
  },
  {
   "cell_type": "code",
   "execution_count": null,
   "id": "israeli-shock",
   "metadata": {},
   "outputs": [],
   "source": []
  },
  {
   "cell_type": "code",
   "execution_count": null,
   "id": "automated-competition",
   "metadata": {},
   "outputs": [],
   "source": []
  },
  {
   "cell_type": "code",
   "execution_count": null,
   "id": "natural-campaign",
   "metadata": {},
   "outputs": [],
   "source": []
  }
 ],
 "metadata": {
  "kernelspec": {
   "display_name": "Python 3",
   "language": "python",
   "name": "python3"
  },
  "language_info": {
   "codemirror_mode": {
    "name": "ipython",
    "version": 3
   },
   "file_extension": ".py",
   "mimetype": "text/x-python",
   "name": "python",
   "nbconvert_exporter": "python",
   "pygments_lexer": "ipython3",
   "version": "3.6.9"
  }
 },
 "nbformat": 4,
 "nbformat_minor": 5
}
